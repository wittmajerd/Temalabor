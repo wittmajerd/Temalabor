{
  "cells": [
    {
      "cell_type": "code",
      "execution_count": 1,
      "metadata": {
        "colab": {
          "base_uri": "https://localhost:8080/"
        },
        "id": "xPPn9aclwzKc",
        "outputId": "211ea14b-35ef-4275-d53f-1a193f876bf8"
      },
      "outputs": [],
      "source": [
        "import numpy as np\n",
        "import pandas as pd\n",
        "from typing import List\n",
        "from dataclasses import dataclass\n",
        "import pickle\n",
        "import statistics\n",
        "import math\n",
        "from IPython.display import Image"
      ]
    },
    {
      "cell_type": "code",
      "execution_count": 2,
      "metadata": {},
      "outputs": [],
      "source": [
        "import tensorflow as tf\n",
        "from keras.models import Model\n",
        "from keras.layers import Dense, Activation, Dropout, Input, concatenate\n",
        "from keras.callbacks import Callback, TensorBoard, ModelCheckpoint, EarlyStopping, ReduceLROnPlateau\n",
        "from keras.optimizers import SGD, Adam\n",
        "from keras.utils import plot_model\n",
        "\n",
        "from keras import regularizers\n",
        "from keras.models import load_model\n",
        "from keras_visualizer import visualizer\n",
        "from sklearn.metrics import confusion_matrix, accuracy_score, roc_curve\n",
        "from sklearn import preprocessing\n",
        "\n",
        "import matplotlib.pyplot as plt\n",
        "import matplotlib.image as mpimg\n",
        "\n",
        "import seaborn as sns;\n",
        "\n",
        "# Set seeds for reproducibility\n",
        "np.random.seed(1)\n",
        "tf.random.set_seed(1)"
      ]
    },
    {
      "cell_type": "code",
      "execution_count": 3,
      "metadata": {
        "id": "YBcbadtWw_7N"
      },
      "outputs": [],
      "source": [
        "@dataclass\n",
        "class Sign:\n",
        "  userID: int\n",
        "  genuine: bool\n",
        "  data: pd.DataFrame\n",
        "  feature_vector: np.ndarray\n",
        "  \n",
        "@dataclass\n",
        "class User:\n",
        "  userID: int\n",
        "  signatures: list[Sign]"
      ]
    },
    {
      "cell_type": "code",
      "execution_count": 4,
      "metadata": {},
      "outputs": [],
      "source": [
        "# Deserialization of all users   \n",
        "with open('allUsers.pkl', 'rb') as in_file:\n",
        "    all_users = pickle.load(in_file)"
      ]
    },
    {
      "cell_type": "code",
      "execution_count": 9,
      "metadata": {},
      "outputs": [],
      "source": [
        "def create_data(users: List[User]):\n",
        "    data_length = 0\n",
        "    for user in users:\n",
        "        data_length += (len(user.signatures) - 4)\n",
        "    \n",
        "    X_list = np.ndarray(shape=(data_length, 4*26))\n",
        "    Y_list = np.ndarray(shape=(data_length, 1))\n",
        "    k = 0\n",
        "    \n",
        "    for user in users:\n",
        "        for i in range(4,len(user.signatures)):\n",
        "            X = []\n",
        "            for j in range(4):\n",
        "                # Simple difference, subtraction\n",
        "                # X_temp = np.subtract(user.signatures[i].feature_vector, user.signatures[j].feature_vector)\n",
        "                # Relative Difference is the best\n",
        "                X_temp = np.divide(np.subtract(user.signatures[i].feature_vector, user.signatures[j].feature_vector), np.add(np.add(user.signatures[i].feature_vector, user.signatures[j].feature_vector) / 2 , 1e-9))\n",
        "                # Relative Difference to the genuine signature\n",
        "                # X_temp = np.divide(np.subtract(user.signatures[i].feature_vector, user.signatures[j].feature_vector), np.add(user.signatures[j].feature_vector, 1e-9))\n",
        "                X.append(X_temp)\n",
        "                \n",
        "            X_list[k] = np.ndarray.flatten(np.array(X))\n",
        "            # 0 if the comparison is genuine, 1 if forged\n",
        "            Y = 0 if user.signatures[i].genuine else 1\n",
        "            Y_list[k] = Y\n",
        "            k += 1\n",
        "                \n",
        "    return X_list, Y_list"
      ]
    },
    {
      "cell_type": "markdown",
      "metadata": {},
      "source": [
        "Shuffling the users for better signature number distribution  \n",
        "Some users have 50 some 28 signatures"
      ]
    },
    {
      "cell_type": "code",
      "execution_count": 6,
      "metadata": {},
      "outputs": [],
      "source": [
        "from sklearn.utils import shuffle\n",
        "all_users = shuffle(all_users, random_state=1)  # Always shuffle with the same seed so that the results are reproducible"
      ]
    },
    {
      "cell_type": "markdown",
      "metadata": {},
      "source": [
        "Splitting the data into train and test sets"
      ]
    },
    {
      "cell_type": "code",
      "execution_count": 7,
      "metadata": {},
      "outputs": [],
      "source": [
        "train_users = all_users[:700]\n",
        "valid_users = all_users[700:800]\n",
        "test_users = all_users[800:]"
      ]
    },
    {
      "cell_type": "markdown",
      "metadata": {},
      "source": [
        "Creating the difference vectors for each datasets"
      ]
    },
    {
      "cell_type": "code",
      "execution_count": 10,
      "metadata": {},
      "outputs": [
        {
          "name": "stdout",
          "output_type": "stream",
          "text": [
            "(25204, 104) (25204, 1) (3544, 104) (3544, 1) (2472, 104) (2472, 1)\n"
          ]
        }
      ],
      "source": [
        "X_train, Y_train = create_data(train_users)\n",
        "X_valid, Y_valid = create_data(valid_users)\n",
        "X_test, Y_test = create_data(test_users)\n",
        "print(X_train.shape, Y_train.shape, X_valid.shape, Y_valid.shape, X_test.shape, Y_test.shape)\n",
        "# Only fourth of the data as the single comparison "
      ]
    },
    {
      "cell_type": "markdown",
      "metadata": {},
      "source": [
        "The genuine and forged signature comparisons are balanced"
      ]
    },
    {
      "cell_type": "code",
      "execution_count": 115,
      "metadata": {},
      "outputs": [
        {
          "name": "stdout",
          "output_type": "stream",
          "text": [
            "[0.50789557] [0.5025395] [0.51294498]\n"
          ]
        }
      ],
      "source": [
        "# Forgery ratio in train, valid and test set\n",
        "print(sum(Y_train)/len(Y_train), sum(Y_valid)/len(Y_valid), sum(Y_test)/len(Y_test))"
      ]
    },
    {
      "cell_type": "markdown",
      "metadata": {},
      "source": [
        "Standardizing the data if needed \n",
        "If the difference vectors are calculated with relative difference then the standardization is not neccecary"
      ]
    },
    {
      "cell_type": "code",
      "execution_count": 11,
      "metadata": {},
      "outputs": [],
      "source": [
        "scaler = preprocessing.StandardScaler().fit(X_train)\n",
        "X_train = scaler.transform(X_train)\n",
        "X_valid = scaler.transform(X_valid)\n",
        "X_test = scaler.transform(X_test)"
      ]
    },
    {
      "cell_type": "markdown",
      "metadata": {},
      "source": [
        "Building a different model\n",
        "There is four input for the model for each signature comparison\n",
        "Then we merge the results of the four comparisons and feed it to another dense layer"
      ]
    },
    {
      "cell_type": "code",
      "execution_count": 75,
      "metadata": {},
      "outputs": [],
      "source": [
        "feature_vector_size = len(all_users[0].signatures[0].feature_vector)\n",
        "\n",
        "activation = \"relu\"\n",
        "dropout = 0.5\n",
        "\n",
        "M1_in = Input(shape=(26,), name=\"M1_in\")\n",
        "M1 = Dense(200, activation=activation)(M1_in)\n",
        "M1 = Dropout(dropout)(M1)\n",
        "M1 = Dense(200, activation=activation)(M1)\n",
        "M1 = Dropout(dropout)(M1)\n",
        "M1 = Dense(200, activation=activation)(M1)\n",
        "M1 = Dropout(dropout)(M1)\n",
        "# M1 = Dense(200, activation=activation)(M1)\n",
        "# M1 = Dropout(dropout)(M1)\n",
        "M1 = Dense(50, activation=activation)(M1)\n",
        "\n",
        "M2_in = Input(shape=(26,), name=\"M2_in\")\n",
        "M2 = Dense(200, activation=activation)(M2_in)\n",
        "M2 = Dropout(dropout)(M2)\n",
        "M2 = Dense(200, activation=activation)(M2)\n",
        "M2 = Dropout(dropout)(M2)\n",
        "M2 = Dense(200, activation=activation)(M2)\n",
        "M2 = Dropout(dropout)(M2)\n",
        "# M2 = Dense(200, activation=activation)(M2)\n",
        "# M2 = Dropout(dropout)(M2)\n",
        "M2 = Dense(50, activation=activation)(M2)\n",
        "\n",
        "M3_in = Input(shape=(26,), name=\"M3_in\")\n",
        "M3 = Dense(200, activation=activation)(M3_in)\n",
        "M3 = Dropout(dropout)(M3)\n",
        "M3 = Dense(200, activation=activation)(M3)\n",
        "M3 = Dropout(dropout)(M3)\n",
        "M3 = Dense(200, activation=activation)(M3)\n",
        "M3 = Dropout(dropout)(M3)\n",
        "# M3 = Dense(200, activation=activation)(M3)\n",
        "# M3 = Dropout(dropout)(M3)\n",
        "M3 = Dense(50, activation=activation)(M3)\n",
        "\n",
        "M4_in = Input(shape=(26,), name=\"M4_in\")\n",
        "M4 = Dense(200, activation=activation)(M4_in)\n",
        "M4 = Dropout(dropout)(M4)\n",
        "M4 = Dense(200, activation=activation)(M4)\n",
        "M4 = Dropout(dropout)(M4)\n",
        "M4 = Dense(200, activation=activation)(M4)\n",
        "M4 = Dropout(dropout)(M4)\n",
        "# M4 = Dense(200, activation=activation)(M4)\n",
        "# M4 = Dropout(dropout)(M4)\n",
        "M4 = Dense(50, activation=activation)(M4)\n",
        "\n",
        "concat = concatenate([M1, M2, M3, M4])\n",
        "# dense = Dense(100, activation=activation)(concat)\n",
        "output_layer = Dense(1, activation=\"sigmoid\", name=\"output\")(concat)\n",
        "\n",
        "Merged = Model(inputs=[M1_in, M2_in, M3_in, M4_in], outputs=[output_layer])\n",
        "\n",
        "# plot_model(Merged, to_file='model.png', show_shapes=True, show_layer_names=True)"
      ]
    },
    {
      "cell_type": "code",
      "execution_count": 76,
      "metadata": {},
      "outputs": [
        {
          "name": "stdout",
          "output_type": "stream",
          "text": [
            "Epoch 1/50\n",
            "\n",
            "Epoch 1: val_accuracy improved from -inf to 0.91704, saving model to weights.h5\n",
            "\n",
            "Epoch 1: val_loss improved from inf to 0.21266, saving model to weights_loss.h5\n",
            "788/788 - 10s - loss: 0.2515 - accuracy: 0.9052 - val_loss: 0.2127 - val_accuracy: 0.9170 - lr: 0.0010 - 10s/epoch - 13ms/step\n",
            "Epoch 2/50\n"
          ]
        },
        {
          "name": "stderr",
          "output_type": "stream",
          "text": [
            "c:\\Users\\David\\AppData\\Local\\Programs\\Python\\Python311\\Lib\\site-packages\\keras\\src\\engine\\training.py:3079: UserWarning: You are saving your model as an HDF5 file via `model.save()`. This file format is considered legacy. We recommend using instead the native Keras format, e.g. `model.save('my_model.keras')`.\n",
            "  saving_api.save_model(\n"
          ]
        },
        {
          "name": "stdout",
          "output_type": "stream",
          "text": [
            "\n",
            "Epoch 2: val_accuracy improved from 0.91704 to 0.92946, saving model to weights.h5\n",
            "\n",
            "Epoch 2: val_loss improved from 0.21266 to 0.17811, saving model to weights_loss.h5\n",
            "788/788 - 9s - loss: 0.1838 - accuracy: 0.9298 - val_loss: 0.1781 - val_accuracy: 0.9295 - lr: 0.0010 - 9s/epoch - 11ms/step\n",
            "Epoch 3/50\n",
            "\n",
            "Epoch 3: val_accuracy improved from 0.92946 to 0.93538, saving model to weights.h5\n",
            "\n",
            "Epoch 3: val_loss improved from 0.17811 to 0.16672, saving model to weights_loss.h5\n",
            "788/788 - 8s - loss: 0.1634 - accuracy: 0.9378 - val_loss: 0.1667 - val_accuracy: 0.9354 - lr: 0.0010 - 8s/epoch - 11ms/step\n",
            "Epoch 4/50\n",
            "\n",
            "Epoch 4: val_accuracy did not improve from 0.93538\n",
            "\n",
            "Epoch 4: val_loss did not improve from 0.16672\n",
            "788/788 - 8s - loss: 0.1503 - accuracy: 0.9433 - val_loss: 0.1828 - val_accuracy: 0.9289 - lr: 0.0010 - 8s/epoch - 11ms/step\n",
            "Epoch 5/50\n",
            "\n",
            "Epoch 5: val_accuracy improved from 0.93538 to 0.93962, saving model to weights.h5\n",
            "\n",
            "Epoch 5: val_loss improved from 0.16672 to 0.15751, saving model to weights_loss.h5\n",
            "788/788 - 8s - loss: 0.1435 - accuracy: 0.9459 - val_loss: 0.1575 - val_accuracy: 0.9396 - lr: 0.0010 - 8s/epoch - 10ms/step\n",
            "Epoch 6/50\n",
            "\n",
            "Epoch 6: val_accuracy did not improve from 0.93962\n",
            "\n",
            "Epoch 6: val_loss did not improve from 0.15751\n",
            "788/788 - 8s - loss: 0.1376 - accuracy: 0.9486 - val_loss: 0.1759 - val_accuracy: 0.9317 - lr: 0.0010 - 8s/epoch - 10ms/step\n",
            "Epoch 7/50\n",
            "\n",
            "Epoch 7: val_accuracy did not improve from 0.93962\n",
            "\n",
            "Epoch 7: val_loss did not improve from 0.15751\n",
            "788/788 - 8s - loss: 0.1325 - accuracy: 0.9496 - val_loss: 0.1694 - val_accuracy: 0.9320 - lr: 0.0010 - 8s/epoch - 11ms/step\n",
            "Epoch 8/50\n",
            "\n",
            "Epoch 8: val_accuracy did not improve from 0.93962\n",
            "\n",
            "Epoch 8: val_loss did not improve from 0.15751\n",
            "788/788 - 8s - loss: 0.1271 - accuracy: 0.9528 - val_loss: 0.1706 - val_accuracy: 0.9300 - lr: 0.0010 - 8s/epoch - 11ms/step\n",
            "Epoch 9/50\n",
            "\n",
            "Epoch 9: val_accuracy did not improve from 0.93962\n",
            "\n",
            "Epoch 9: val_loss did not improve from 0.15751\n",
            "788/788 - 8s - loss: 0.1252 - accuracy: 0.9537 - val_loss: 0.1666 - val_accuracy: 0.9382 - lr: 0.0010 - 8s/epoch - 10ms/step\n",
            "Epoch 10/50\n",
            "\n",
            "Epoch 10: val_accuracy did not improve from 0.93962\n",
            "\n",
            "Epoch 10: val_loss did not improve from 0.15751\n",
            "788/788 - 8s - loss: 0.1213 - accuracy: 0.9555 - val_loss: 0.1743 - val_accuracy: 0.9314 - lr: 0.0010 - 8s/epoch - 10ms/step\n",
            "Epoch 11/50\n",
            "\n",
            "Epoch 11: val_accuracy did not improve from 0.93962\n",
            "\n",
            "Epoch 11: val_loss did not improve from 0.15751\n",
            "788/788 - 8s - loss: 0.1154 - accuracy: 0.9590 - val_loss: 0.1747 - val_accuracy: 0.9326 - lr: 8.0000e-04 - 8s/epoch - 10ms/step\n",
            "Epoch 12/50\n",
            "\n",
            "Epoch 12: val_accuracy did not improve from 0.93962\n",
            "\n",
            "Epoch 12: val_loss did not improve from 0.15751\n",
            "788/788 - 8s - loss: 0.1112 - accuracy: 0.9598 - val_loss: 0.1896 - val_accuracy: 0.9269 - lr: 8.0000e-04 - 8s/epoch - 10ms/step\n",
            "Epoch 13/50\n",
            "\n",
            "Epoch 13: val_accuracy did not improve from 0.93962\n",
            "\n",
            "Epoch 13: val_loss did not improve from 0.15751\n",
            "788/788 - 8s - loss: 0.1077 - accuracy: 0.9610 - val_loss: 0.1788 - val_accuracy: 0.9343 - lr: 8.0000e-04 - 8s/epoch - 10ms/step\n",
            "Epoch 14/50\n",
            "\n",
            "Epoch 14: val_accuracy did not improve from 0.93962\n",
            "\n",
            "Epoch 14: val_loss did not improve from 0.15751\n",
            "788/788 - 8s - loss: 0.1061 - accuracy: 0.9600 - val_loss: 0.1911 - val_accuracy: 0.9289 - lr: 8.0000e-04 - 8s/epoch - 10ms/step\n",
            "Epoch 15/50\n",
            "\n",
            "Epoch 15: val_accuracy did not improve from 0.93962\n",
            "\n",
            "Epoch 15: val_loss did not improve from 0.15751\n",
            "788/788 - 8s - loss: 0.1014 - accuracy: 0.9631 - val_loss: 0.1951 - val_accuracy: 0.9249 - lr: 8.0000e-04 - 8s/epoch - 10ms/step\n",
            "Epoch 15: early stopping\n"
          ]
        }
      ],
      "source": [
        "optimizer = Adam(learning_rate=0.001)\n",
        "\n",
        "Merged.compile(loss = {'output':'binary_crossentropy'}, optimizer = optimizer, metrics =['accuracy'])\n",
        "\n",
        "patience = 10\n",
        "early_stopping = EarlyStopping(monitor='val_accuracy', patience=patience, verbose=1)\n",
        "checkpointer = ModelCheckpoint(monitor='val_accuracy', filepath='weights.h5', save_best_only=True, verbose=1)\n",
        "checkpointer2 = ModelCheckpoint(monitor='val_loss', filepath='weights_loss.h5', save_best_only=True, verbose=1)\n",
        "reduce_lr = ReduceLROnPlateau(monitor='val_accuracy', factor=0.8, patience=5, min_lr=1e-7)\n",
        "\n",
        "fit_history = Merged.fit(\n",
        "            {'M1_in': X_train[:,:26], 'M2_in': X_train[:,26:52], 'M3_in': X_train[:,52:78], 'M4_in': X_train[:,78:]}, \n",
        "            {'output': Y_train},\n",
        "            batch_size=32,\n",
        "            epochs=50,\n",
        "            verbose=2,\n",
        "            validation_data=({'M1_in': X_valid[:,:26], 'M2_in': X_valid[:,26:52], 'M3_in': X_valid[:,52:78], 'M4_in': X_valid[:,78:]},\n",
        "                             {'output': Y_valid}),\n",
        "            callbacks=[ reduce_lr,\n",
        "                        checkpointer,\n",
        "                        checkpointer2,\n",
        "                        early_stopping],\n",
        "            shuffle= True)"
      ]
    },
    {
      "cell_type": "code",
      "execution_count": 77,
      "metadata": {},
      "outputs": [
        {
          "name": "stdout",
          "output_type": "stream",
          "text": [
            "78/78 [==============================] - 0s 3ms/step - loss: 0.1800 - accuracy: 0.9324\n"
          ]
        },
        {
          "data": {
            "text/plain": [
              "[0.18004031479358673, 0.932443380355835]"
            ]
          },
          "execution_count": 77,
          "metadata": {},
          "output_type": "execute_result"
        }
      ],
      "source": [
        "model = load_model('weights.h5')\n",
        "model.evaluate({'M1_in': X_test[:,:26], 'M2_in': X_test[:,26:52], 'M3_in': X_test[:,52:78], 'M4_in': X_test[:,78:]},\n",
        "                             {'output': Y_test})"
      ]
    },
    {
      "cell_type": "code",
      "execution_count": 169,
      "metadata": {},
      "outputs": [
        {
          "name": "stdout",
          "output_type": "stream",
          "text": [
            "78/78 [==============================] - 0s 1000us/step\n",
            "Best Threshold=0.477355\n"
          ]
        }
      ],
      "source": [
        "preds = model.predict({'M1_in': X_test[:,:26], 'M2_in': X_test[:,26:52], 'M3_in': X_test[:,52:78], 'M4_in': X_test[:,78:]})\n",
        "\n",
        "# Compute FAR and FRR\n",
        "fpr, tpr, thresholds = roc_curve(Y_test, preds)\n",
        "far = fpr\n",
        "frr = 1 - tpr\n",
        "\n",
        "# Find the optimal threshold (EER)\n",
        "eer = thresholds[np.nanargmin(np.absolute((far - frr)))]\n",
        "\n",
        "print('Best Threshold=%f' % eer)"
      ]
    },
    {
      "cell_type": "code",
      "execution_count": 170,
      "metadata": {},
      "outputs": [
        {
          "name": "stdout",
          "output_type": "stream",
          "text": [
            "Number of correct predictions: 2237\n",
            "Number of wrong predictions: 235\n",
            "Accuracy: 0.9049352750809061\n"
          ]
        },
        {
          "data": {
            "text/plain": [
              "[Text(0.5, 14.722222222222216, 'Predicted Label'),\n",
              " Text(33.22222222222222, 0.5, 'True label')]"
            ]
          },
          "execution_count": 170,
          "metadata": {},
          "output_type": "execute_result"
        },
        {
          "data": {
            "image/png": "[encoded data removed]",
            "text/plain": [
              "<Figure size 500x400 with 2 Axes>"
            ]
          },
          "metadata": {},
          "output_type": "display_data"
        }
      ],
      "source": [
        "preds_binary = np.where(preds > eer, 1, 0)\n",
        "conf = confusion_matrix(Y_test, preds_binary)\n",
        "# Compare the predictions with the actual values\n",
        "correct_preds = np.sum(preds_binary == Y_test)\n",
        "wrong_preds = len(Y_test) - correct_preds\n",
        "\n",
        "print(f\"Number of correct predictions: {correct_preds}\")\n",
        "print(f\"Number of wrong predictions: {wrong_preds}\")\n",
        "print(f\"Accuracy: {accuracy_score(Y_test, preds_binary)}\")\n",
        "\n",
        "plt.figure(figsize=(5,4))\n",
        "ax = sns.heatmap(conf, annot=True, fmt='d', cmap=plt.cm.Blues)\n",
        "ax.set(xlabel='Predicted Label',\n",
        "       ylabel='True label')"
      ]
    }
  ],
  "metadata": {
    "colab": {
      "provenance": []
    },
    "kernelspec": {
      "display_name": "Python 3",
      "name": "python3"
    },
    "language_info": {
      "codemirror_mode": {
        "name": "ipython",
        "version": 3
      },
      "file_extension": ".py",
      "mimetype": "text/x-python",
      "name": "python",
      "nbconvert_exporter": "python",
      "pygments_lexer": "ipython3",
      "version": "3.11.5"
    }
  },
  "nbformat": 4,
  "nbformat_minor": 0
}
