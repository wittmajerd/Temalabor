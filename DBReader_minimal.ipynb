{
  "cells": [
    {
      "cell_type": "code",
      "execution_count": 1,
      "metadata": {
        "colab": {
          "base_uri": "https://localhost:8080/"
        },
        "id": "xPPn9aclwzKc",
        "outputId": "211ea14b-35ef-4275-d53f-1a193f876bf8"
      },
      "outputs": [],
      "source": [
        "import numpy as np\n",
        "import pandas as pd\n",
        "from glob import glob\n",
        "from typing import List\n",
        "from dataclasses import dataclass\n",
        "import pickle"
      ]
    },
    {
      "cell_type": "code",
      "execution_count": 2,
      "metadata": {
        "id": "YBcbadtWw_7N"
      },
      "outputs": [],
      "source": [
        "@dataclass\n",
        "class Sign:\n",
        "  userID: int\n",
        "  genuine: bool\n",
        "  data: pd.DataFrame\n",
        "  feature_vector: np.ndarray\n",
        "  \n",
        "@dataclass\n",
        "class User:\n",
        "  userID: int\n",
        "  signatures: list[Sign]"
      ]
    },
    {
      "cell_type": "code",
      "execution_count": 3,
      "metadata": {},
      "outputs": [],
      "source": [
        "# Need the pressure data for the feature vector so only use the stylus data\n",
        "# \"*DeepSignDB/DeepSignDB/Development/stylus/*.txt\"\n",
        "def DevelopmentStylus(path: str) -> List[Sign]:\n",
        "    files = glob(path)\n",
        "    signatures = []\n",
        "    for file in files:\n",
        "        df = pd.read_csv(file, sep=' ', skiprows=1, header=None)\n",
        "        \n",
        "        file = file.split(\"/\")[3]\n",
        "        ID = int(file[8:12])\n",
        "        #print(ID)\n",
        "        if(file[13] == 'g'):\n",
        "            real = True\n",
        "        else:\n",
        "            real = False\n",
        "            \n",
        "        #MCYT:\n",
        "        if(0<=ID<=230):\n",
        "            df.drop(df.columns[[3,4]], axis=1, inplace=True)\n",
        "        #BiosecureID:\n",
        "        if(231<=ID<=498):\n",
        "            df.drop(df.columns[[3,4,5]], axis=1, inplace=True)\n",
        "        #e-BioSign DS1-2:\n",
        "        if(ID>498):\n",
        "            break\n",
        "        #pressure is the only extra info, so we don't drop anything else\n",
        "        df.columns = (\"x\",\"y\",\"time\", \"pressure\")\n",
        "        \n",
        "        # There is one sign with zero pressure at the start, so we remove those points from the start\n",
        "        if(df.pressure[0] == 0):\n",
        "            # Find the first index where pressure is not zero\n",
        "            first_non_zero_pressure_index = df['pressure'].ne(0).idxmax()\n",
        "            # Slice the DataFrame from this point to the end\n",
        "            df = df.loc[first_non_zero_pressure_index:]\n",
        "            df.reset_index(drop=True, inplace=True)\n",
        "\n",
        "        #start time from 0\n",
        "        df.time = df.time - df.time[0]\n",
        "        \n",
        "        #print(Sign(userID=ID, genuine=real, data=df))\n",
        "        signatures.append(Sign(userID=ID, genuine=real, data=df, feature_vector=None))\n",
        "    return signatures"
      ]
    },
    {
      "cell_type": "code",
      "execution_count": 4,
      "metadata": {},
      "outputs": [],
      "source": [
        "# \"*DeepSignDB/DeepSignDB/Evaluation/stylus/*.txt\"\n",
        "def EvalStylus(path: str) -> List[Sign]:\n",
        "    files = glob(path)\n",
        "    signatures = []\n",
        "    for file in files:\n",
        "        df = pd.read_csv(file, sep=' ', skiprows=1, header=None)\n",
        "        \n",
        "        file = file.split(\"/\")[3]\n",
        "        ID = int(file[8:12])\n",
        "        #print(ID)\n",
        "        if(file[13] == 'g'):\n",
        "            real = True\n",
        "        else:\n",
        "            real = False\n",
        "            \n",
        "        #MCYT:\n",
        "        if(0<=ID<=100):\n",
        "            df.drop(df.columns[[3,4]], axis=1, inplace=True)\n",
        "        #BiosecureID and BiosecureDS2:\n",
        "        if(101<=ID<=372):\n",
        "            df.drop(df.columns[[3,4,5]], axis=1, inplace=True)\n",
        "        #e-BioSign DS1-2:\n",
        "        if(ID>372):\n",
        "            break\n",
        "        #pressure is the only extra info, so we don't drop anything else\n",
        "        df.columns = (\"x\",\"y\",\"time\", \"pressure\")\n",
        "        #start time from 0\n",
        "        df.time = df.time - df.time[0]\n",
        "        \n",
        "        # Fixing the time for the signatures with 0 time\n",
        "        if(df.time[5] == 0):\n",
        "            length = len(df)\n",
        "            time = range(0, length*10, 10)\n",
        "            df.time = time\n",
        "        \n",
        "        #print(Sign(userID=ID, genuine=real, data=df))\n",
        "        signatures.append(Sign(userID=ID, genuine=real, data=df, feature_vector=None))\n",
        "    return signatures"
      ]
    },
    {
      "cell_type": "code",
      "execution_count": 5,
      "metadata": {},
      "outputs": [],
      "source": [
        "devSigns = DevelopmentStylus(\"DeepSignDB/DeepSignDB/Development/stylus/*.txt\")\n",
        "evalSigns = EvalStylus(\"DeepSignDB/DeepSignDB/Evaluation/stylus/*.txt\")"
      ]
    },
    {
      "cell_type": "code",
      "execution_count": 6,
      "metadata": {},
      "outputs": [
        {
          "name": "stdout",
          "output_type": "stream",
          "text": [
            "19004\n",
            "15696\n"
          ]
        }
      ],
      "source": [
        "print(len(devSigns))   # 19004\n",
        "print(len(evalSigns))  # 15696"
      ]
    },
    {
      "cell_type": "code",
      "execution_count": 7,
      "metadata": {},
      "outputs": [],
      "source": [
        "# Serialize the raw signatures\n",
        "with open('rawDevSigns.pkl', 'wb') as out_file:\n",
        "    pickle.dump(devSigns, out_file)\n",
        "    \n",
        "with open('rawEvalSigns.pkl', 'wb') as out_file:\n",
        "    pickle.dump(evalSigns, out_file)"
      ]
    }
  ],
  "metadata": {
    "colab": {
      "provenance": []
    },
    "kernelspec": {
      "display_name": "Python 3",
      "name": "python3"
    },
    "language_info": {
      "codemirror_mode": {
        "name": "ipython",
        "version": 3
      },
      "file_extension": ".py",
      "mimetype": "text/x-python",
      "name": "python",
      "nbconvert_exporter": "python",
      "pygments_lexer": "ipython3",
      "version": "3.11.5"
    }
  },
  "nbformat": 4,
  "nbformat_minor": 0
}
